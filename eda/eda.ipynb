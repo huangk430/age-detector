{
 "cells": [
  {
   "cell_type": "markdown",
   "metadata": {},
   "source": [
    "# Exploratory Data Analysis "
   ]
  },
  {
   "cell_type": "code",
   "execution_count": 57,
   "metadata": {},
   "outputs": [
    {
     "name": "stderr",
     "output_type": "stream",
     "text": [
      "IOPub data rate exceeded.\n",
      "The notebook server will temporarily stop sending output\n",
      "to the client in order to avoid crashing it.\n",
      "To change this limit, set the config variable\n",
      "`--NotebookApp.iopub_data_rate_limit`.\n",
      "\n",
      "Current values:\n",
      "NotebookApp.iopub_data_rate_limit=1000000.0 (bytes/sec)\n",
      "NotebookApp.rate_limit_window=3.0 (secs)\n",
      "\n"
     ]
    }
   ],
   "source": [
    "import os\n",
    "import scipy.io as sio\n",
    "from pprint import pprint\n",
    "\n",
    "\n",
    "imdb_path = \"../dataset/imdb_crop\"\n",
    "wiki_path = \"../dataset/wiki_crop\"\n",
    "\n",
    "for folder_name in os.listdir(imdb_path):\n",
    "    folder_path = os.path.join(imdb_path, folder_name)\n",
    "    \n",
    "    if os.path.isdir(folder_path):\n",
    "        # Looping through each image in the current folder\n",
    "        for file_name in os.listdir(folder_path):\n",
    "            image_path = os.path.join(folder_path, file_name)\n",
    "            # todo process image?\n",
    "        \n",
    "    else: # This is the .mat file\n",
    "        imdb_mat = sio.loadmat(folder_path)\n",
    "        \n",
    "        imdb_dict = {}\n",
    "        \n",
    "    \n",
    "        num_images = len(imdb_mat[\"imdb\"][0][0][0][0])\n",
    "        imdb_mat_content = imdb_mat[\"imdb\"][0][0]\n",
    "        \n",
    "        for i in range(num_images):\n",
    "            dob = imdb_mat_content[0][0][i]  # date of birth (Matlab serial date number)\n",
    "            photo_taken = imdb_mat_content[1][0][i]  # year when the photo was taken\n",
    "            full_path = imdb_mat_content[2][0][i]  # path to file\n",
    "            gender = imdb_mat_content[3][0][i]  # 0 for female and 1 for male, NaN if unknown\n",
    "            name = imdb_mat_content[4][0][i]  # name of the celebrity\n",
    "            face_location = imdb_mat_content[5][0][i]  # location of the face\n",
    "            face_score = imdb_mat_content[6][0][i]  # detector score (the higher the better). Inf implies that no face was found in the image and the face_location then just returns the entire image\n",
    "            second_face_score = imdb_mat_content[7][0][i]  # detector score of the face with the second highest score. This is useful to ignore images with more than one face. second_face_score is NaN if no second face was detected.\n",
    "            \n",
    "            imdb_dict[str(full_path)] = {\n",
    "                \"dob\": int(dob) / 365\n",
    "            }\n",
    "        print(imdb_dict)\n"
   ]
  },
  {
   "cell_type": "code",
   "execution_count": 59,
   "metadata": {},
   "outputs": [
    {
     "name": "stderr",
     "output_type": "stream",
     "text": [
      "IOPub data rate exceeded.\n",
      "The notebook server will temporarily stop sending output\n",
      "to the client in order to avoid crashing it.\n",
      "To change this limit, set the config variable\n",
      "`--NotebookApp.iopub_data_rate_limit`.\n",
      "\n",
      "Current values:\n",
      "NotebookApp.iopub_data_rate_limit=1000000.0 (bytes/sec)\n",
      "NotebookApp.rate_limit_window=3.0 (secs)\n",
      "\n"
     ]
    }
   ],
   "source": [
    "import os\n",
    "import scipy.io as sio\n",
    "from pprint import pprint\n",
    "\n",
    "\n",
    "imdb_mat_path = \"../dataset/imdb_crop/imdb.mat\"\n",
    "imdb_mat = sio.loadmat(imdb_mat_path)\n",
    "\n",
    "imdb_dict = {}\n",
    "        \n",
    "    \n",
    "num_images = len(imdb_mat[\"imdb\"][0][0][0][0])\n",
    "imdb_mat_content = imdb_mat[\"imdb\"][0][0]\n",
    "\n",
    "for i in range(num_images):\n",
    "    dob = imdb_mat_content[0][0][i]  # date of birth (Matlab serial date number)\n",
    "    photo_taken = imdb_mat_content[1][0][i]  # year when the photo was taken\n",
    "    full_path = imdb_mat_content[2][0][i]  # path to file\n",
    "    gender = imdb_mat_content[3][0][i]  # 0 for female and 1 for male, NaN if unknown\n",
    "    name = imdb_mat_content[4][0][i]  # name of the celebrity\n",
    "    face_location = imdb_mat_content[5][0][i]  # location of the face\n",
    "    face_score = imdb_mat_content[6][0][i]  # detector score (the higher the better). Inf implies that no face was found in the image and the face_location then just returns the entire image\n",
    "    second_face_score = imdb_mat_content[7][0][i]  # detector score of the face with the second highest score. This is useful to ignore images with more than one face. second_face_score is NaN if no second face was detected.\n",
    "\n",
    "    imdb_dict[str(full_path)] = {\n",
    "        \"dob\": int(dob) / 365\n",
    "    }\n",
    "print(imdb_dict)"
   ]
  },
  {
   "cell_type": "code",
   "execution_count": null,
   "metadata": {},
   "outputs": [],
   "source": []
  }
 ],
 "metadata": {
  "kernelspec": {
   "display_name": "Python 3 (ipykernel)",
   "language": "python",
   "name": "python3"
  },
  "language_info": {
   "codemirror_mode": {
    "name": "ipython",
    "version": 3
   },
   "file_extension": ".py",
   "mimetype": "text/x-python",
   "name": "python",
   "nbconvert_exporter": "python",
   "pygments_lexer": "ipython3",
   "version": "3.11.3"
  }
 },
 "nbformat": 4,
 "nbformat_minor": 2
}
