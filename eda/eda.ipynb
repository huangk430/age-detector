{
 "cells": [
  {
   "cell_type": "markdown",
   "metadata": {},
   "source": [
    "# Exploratory Data Analysis "
   ]
  },
  {
   "cell_type": "code",
   "execution_count": 27,
   "metadata": {},
   "outputs": [
    {
     "name": "stdout",
     "output_type": "stream",
     "text": [
      "array([[693726, 693726, 693726, ..., 726831, 726831, 726831]], dtype=int32)\n"
     ]
    }
   ],
   "source": [
    "import os\n",
    "import scipy.io as sio\n",
    "from pprint import pprint\n",
    "\n",
    "\n",
    "imdb_path = \"../dataset/imdb_crop\"\n",
    "wiki_path = \"../dataset/wiki_crop\"\n",
    "\n",
    "for folder_name in os.listdir(imdb_path):\n",
    "    folder_path = os.path.join(imdb_path, folder_name)\n",
    "    \n",
    "    if os.path.isdir(folder_path):\n",
    "        # Looping through each image in the current folder\n",
    "        for file_name in os.listdir(folder_path):\n",
    "            image_path = os.path.join(folder_path, file_name)\n",
    "            # todo process image?\n",
    "        \n",
    "    else: # This is the .mat file\n",
    "        imdb_mat = sio.loadmat(folder_path)\n",
    "        pprint(imdb_mat[\"imdb\"][0][0][0])\n"
   ]
  },
  {
   "cell_type": "code",
   "execution_count": null,
   "metadata": {},
   "outputs": [],
   "source": []
  }
 ],
 "metadata": {
  "kernelspec": {
   "display_name": "Python 3 (ipykernel)",
   "language": "python",
   "name": "python3"
  },
  "language_info": {
   "codemirror_mode": {
    "name": "ipython",
    "version": 3
   },
   "file_extension": ".py",
   "mimetype": "text/x-python",
   "name": "python",
   "nbconvert_exporter": "python",
   "pygments_lexer": "ipython3",
   "version": "3.11.3"
  }
 },
 "nbformat": 4,
 "nbformat_minor": 2
}
