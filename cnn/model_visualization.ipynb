{
 "cells": [
  {
   "cell_type": "code",
   "execution_count": null,
   "metadata": {},
   "outputs": [],
   "source": [
    "import pandas as pd\n",
    "import matplotlib.pyplot as plt\n",
    "\n",
    "\n",
    "history = pd.read_csv('training_history.csv')\n",
    "\n",
    "epochs = history['epoch']\n",
    "training_loss = history['loss']\n",
    "validation_loss = history['val_loss']\n",
    "\n",
    "plt.plot(epochs, training_loss, 'b', label='Training Loss')\n",
    "plt.plot(epochs, validation_loss, 'r', label='Validation Loss')\n",
    "plt.title('Training and Validation Loss')\n",
    "plt.xlabel('Epochs')\n",
    "plt.ylabel('Loss')\n",
    "plt.legend()\n",
    "plt.show()"
   ]
  },
  {
   "cell_type": "code",
   "execution_count": null,
   "metadata": {},
   "outputs": [],
   "source": [
    "training_mse = history['mse']\n",
    "validation_mse = history['val_mse']\n",
    "\n",
    "plt.plot(epochs, training_mse, 'b', label='Training MSE')\n",
    "plt.plot(epochs, validation_mse, 'r', label='Validation MSE')\n",
    "plt.title('Training and Validation Mean Squared Error')\n",
    "plt.xlabel('Epochs')\n",
    "plt.ylabel('MSE')\n",
    "plt.legend()\n",
    "plt.show()"
   ]
  },
  {
   "cell_type": "code",
   "execution_count": null,
   "metadata": {},
   "outputs": [],
   "source": [
    "training_mae = history['mae']\n",
    "validation_mae = history['val_mae']\n",
    "\n",
    "plt.plot(epochs, training_mae, 'b', label='Training MAE')\n",
    "plt.plot(epochs, validation_mae, 'r', label='Validation MAE')\n",
    "plt.title('Training and Validation Mean Absolute Error')\n",
    "plt.xlabel('Epochs')\n",
    "plt.ylabel('MAE')\n",
    "plt.legend()\n",
    "plt.show()"
   ]
  }
 ],
 "metadata": {
  "language_info": {
   "name": "python"
  }
 },
 "nbformat": 4,
 "nbformat_minor": 2
}
